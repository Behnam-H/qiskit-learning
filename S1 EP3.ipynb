{
  "nbformat": 4,
  "nbformat_minor": 0,
  "metadata": {
    "colab": {
      "name": "Untitled0.ipynb",
      "provenance": [],
      "authorship_tag": "ABX9TyPzYNHKZPRfO/HabvlV9jp4",
      "include_colab_link": true
    },
    "kernelspec": {
      "name": "python3",
      "display_name": "Python 3"
    }
  },
  "cells": [
    {
      "cell_type": "markdown",
      "metadata": {
        "id": "view-in-github",
        "colab_type": "text"
      },
      "source": [
        "<a href=\"https://colab.research.google.com/github/Behnam-H/qiskit-learning/blob/main/S1%20EP3.ipynb\" target=\"_parent\"><img src=\"https://colab.research.google.com/assets/colab-badge.svg\" alt=\"Open In Colab\"/></a>"
      ]
    },
    {
      "cell_type": "code",
      "metadata": {
        "colab": {
          "base_uri": "https://localhost:8080/"
        },
        "id": "pDd6JLMbVvnA",
        "outputId": "0985a626-de30-453a-a8bf-3b689a63fd1a"
      },
      "source": [
        "pip install qiskit pylatexenc"
      ],
      "execution_count": null,
      "outputs": [
        {
          "output_type": "stream",
          "text": [
            "Requirement already satisfied: pylatexenc in /usr/local/lib/python3.6/dist-packages (2.8)\n"
          ],
          "name": "stdout"
        }
      ]
    },
    {
      "cell_type": "code",
      "metadata": {
        "id": "eQ3qDKsqd9nJ"
      },
      "source": [
        "from qiskit import IBMQ"
      ],
      "execution_count": null,
      "outputs": []
    },
    {
      "cell_type": "code",
      "metadata": {
        "id": "2ulHl80zpFfB"
      },
      "source": [
        "from qiskit import *"
      ],
      "execution_count": null,
      "outputs": []
    },
    {
      "cell_type": "code",
      "metadata": {
        "id": "_EWxg8IDpPbe"
      },
      "source": [
        "qr = QuantumRegister(2)"
      ],
      "execution_count": null,
      "outputs": []
    },
    {
      "cell_type": "code",
      "metadata": {
        "id": "f6GOm0ykpYbP"
      },
      "source": [
        "cr = ClassicalRegister(2)"
      ],
      "execution_count": null,
      "outputs": []
    },
    {
      "cell_type": "code",
      "metadata": {
        "id": "BPX4OuyCpboO"
      },
      "source": [
        "circuit = QuantumCircuit(qr,cr)"
      ],
      "execution_count": null,
      "outputs": []
    },
    {
      "cell_type": "code",
      "metadata": {
        "id": "oWzC0lj7q-WO"
      },
      "source": [
        "%matplotlib inline"
      ],
      "execution_count": null,
      "outputs": []
    },
    {
      "cell_type": "code",
      "metadata": {
        "colab": {
          "base_uri": "https://localhost:8080/",
          "height": 152
        },
        "id": "-myuSP9xplu1",
        "outputId": "ab751e48-b937-49e7-c58f-fd5c69fb2c7a"
      },
      "source": [
        "circuit.draw()"
      ],
      "execution_count": null,
      "outputs": [
        {
          "output_type": "execute_result",
          "data": {
            "text/html": [
              "<pre style=\"word-wrap: normal;white-space: pre;background: #fff0;line-height: 1.1;font-family: &quot;Courier New&quot;,Courier,monospace\">         \n",
              "q0_0: |0>\n",
              "         \n",
              "q0_1: |0>\n",
              "         \n",
              " c0_0: 0 \n",
              "         \n",
              " c0_1: 0 \n",
              "         </pre>"
            ],
            "text/plain": [
              "         \n",
              "q0_0: |0>\n",
              "         \n",
              "q0_1: |0>\n",
              "         \n",
              " c0_0: 0 \n",
              "         \n",
              " c0_1: 0 \n",
              "         "
            ]
          },
          "metadata": {
            "tags": []
          },
          "execution_count": 8
        }
      ]
    },
    {
      "cell_type": "code",
      "metadata": {
        "colab": {
          "base_uri": "https://localhost:8080/"
        },
        "id": "7tXhbT_br_Tg",
        "outputId": "3965fb37-1f9d-4c83-e5df-ef4d2c443236"
      },
      "source": [
        "circuit.h(qr[0])"
      ],
      "execution_count": null,
      "outputs": [
        {
          "output_type": "execute_result",
          "data": {
            "text/plain": [
              "<qiskit.circuit.instructionset.InstructionSet at 0x7f3a27749b00>"
            ]
          },
          "metadata": {
            "tags": []
          },
          "execution_count": 9
        }
      ]
    },
    {
      "cell_type": "code",
      "metadata": {
        "colab": {
          "base_uri": "https://localhost:8080/",
          "height": 185
        },
        "id": "mUfhLRQNsH-T",
        "outputId": "e94aa6df-4211-4b9e-82e0-dd1745c04bdf"
      },
      "source": [
        "circuit.draw(output='mpl')"
      ],
      "execution_count": null,
      "outputs": [
        {
          "output_type": "execute_result",
          "data": {
            "image/png": "[encoded data removed]",
            "text/plain": [
              "<Figure size 249.228x204.68 with 1 Axes>"
            ]
          },
          "metadata": {
            "tags": []
          },
          "execution_count": 10
        }
      ]
    },
    {
      "cell_type": "code",
      "metadata": {
        "colab": {
          "base_uri": "https://localhost:8080/"
        },
        "id": "-5w-Qd6ft_7B",
        "outputId": "f2e42d1f-1624-4435-a143-6d8557f74ace"
      },
      "source": [
        "circuit.cx(qr[0], qr[1])"
      ],
      "execution_count": null,
      "outputs": [
        {
          "output_type": "execute_result",
          "data": {
            "text/plain": [
              "<qiskit.circuit.instructionset.InstructionSet at 0x7f3a27119048>"
            ]
          },
          "metadata": {
            "tags": []
          },
          "execution_count": 11
        }
      ]
    },
    {
      "cell_type": "code",
      "metadata": {
        "colab": {
          "base_uri": "https://localhost:8080/",
          "height": 185
        },
        "id": "PLkrZqv6u3z5",
        "outputId": "f69e3af4-0ad8-461d-db2b-0a65b9daf6bd"
      },
      "source": [
        "circuit.draw(output=\"mpl\")"
      ],
      "execution_count": null,
      "outputs": [
        {
          "output_type": "execute_result",
          "data": {
            "image/png": "[encoded data removed]",
            "text/plain": [
              "<Figure size 309.428x204.68 with 1 Axes>"
            ]
          },
          "metadata": {
            "tags": []
          },
          "execution_count": 12
        }
      ]
    },
    {
      "cell_type": "code",
      "metadata": {
        "colab": {
          "base_uri": "https://localhost:8080/"
        },
        "id": "RBlXCzruvO-n",
        "outputId": "3bd71c1d-f405-491b-8b3f-7b7da2409d88"
      },
      "source": [
        "circuit.measure(qr, cr)"
      ],
      "execution_count": null,
      "outputs": [
        {
          "output_type": "execute_result",
          "data": {
            "text/plain": [
              "<qiskit.circuit.instructionset.InstructionSet at 0x7f3a1ec72550>"
            ]
          },
          "metadata": {
            "tags": []
          },
          "execution_count": 13
        }
      ]
    },
    {
      "cell_type": "code",
      "metadata": {
        "colab": {
          "base_uri": "https://localhost:8080/",
          "height": 185
        },
        "id": "wo7OkLb6vSRn",
        "outputId": "0e24679f-318d-4789-c8cb-7db649c15532"
      },
      "source": [
        "circuit.draw(output=\"mpl\")"
      ],
      "execution_count": null,
      "outputs": [
        {
          "output_type": "execute_result",
          "data": {
            "image/png": "[encoded data removed]",
            "text/plain": [
              "<Figure size 429.828x204.68 with 1 Axes>"
            ]
          },
          "metadata": {
            "tags": []
          },
          "execution_count": 14
        }
      ]
    },
    {
      "cell_type": "code",
      "metadata": {
        "id": "K8neMFLSvp0y"
      },
      "source": [
        "simulator = Aer.get_backend('qasm_simulator')"
      ],
      "execution_count": null,
      "outputs": []
    },
    {
      "cell_type": "code",
      "metadata": {
        "id": "ecANow1FvyoV"
      },
      "source": [
        "result = execute(circuit,backend=simulator).result()"
      ],
      "execution_count": null,
      "outputs": []
    },
    {
      "cell_type": "code",
      "metadata": {
        "id": "SVUceVSRwCRD"
      },
      "source": [
        "from qiskit.tools.visualization import plot_histogram"
      ],
      "execution_count": null,
      "outputs": []
    },
    {
      "cell_type": "code",
      "metadata": {
        "colab": {
          "base_uri": "https://localhost:8080/",
          "height": 333
        },
        "id": "I35VJqnlwc8e",
        "outputId": "3697c535-8b0c-413d-e308-cca142b14b9c"
      },
      "source": [
        "plot_histogram(result.get_counts(circuit))"
      ],
      "execution_count": null,
      "outputs": [
        {
          "output_type": "execute_result",
          "data": {
            "image/png": "[encoded data removed]",
            "text/plain": [
              "<Figure size 504x360 with 1 Axes>"
            ]
          },
          "metadata": {
            "tags": []
          },
          "execution_count": 23
        }
      ]
    }
  ]
}