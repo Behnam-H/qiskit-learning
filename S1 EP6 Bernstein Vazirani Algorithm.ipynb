{
  "nbformat": 4,
  "nbformat_minor": 0,
  "metadata": {
    "colab": {
      "name": "S1 EP6 Bernstein-Vazirani Algorithm.ipynb",
      "provenance": [],
      "collapsed_sections": [],
      "authorship_tag": "ABX9TyOGxx2DdDZoEop5IkstrDIs",
      "include_colab_link": true
    },
    "kernelspec": {
      "name": "python3",
      "display_name": "Python 3"
    }
  },
  "cells": [
    {
      "cell_type": "markdown",
      "metadata": {
        "id": "view-in-github",
        "colab_type": "text"
      },
      "source": [
        "<a href=\"https://colab.research.google.com/github/Behnam-H/qiskit-learning/blob/main/S1_EP6%20Bernstein%20Vazirani%20Algorithm.ipynb\" target=\"_parent\"><img src=\"https://colab.research.google.com/assets/colab-badge.svg\" alt=\"Open In Colab\"/></a>"
      ]
    },
    {
      "cell_type": "code",
      "metadata": {
        "id": "gQV_3yglHnHc"
      },
      "source": [
        "pip install qiskit pylatexenc"
      ],
      "execution_count": null,
      "outputs": []
    },
    {
      "cell_type": "code",
      "metadata": {
        "id": "IZhAJmeNHVWa"
      },
      "source": [
        "from qiskit import *\r\n",
        "%matplotlib inline\r\n",
        "from qiskit.tools.visualization import plot_histogram"
      ],
      "execution_count": 4,
      "outputs": []
    },
    {
      "cell_type": "code",
      "metadata": {
        "id": "z0b_9wAuIHka"
      },
      "source": [
        "secretnumber = '101001'"
      ],
      "execution_count": 57,
      "outputs": []
    },
    {
      "cell_type": "code",
      "metadata": {
        "colab": {
          "base_uri": "https://localhost:8080/"
        },
        "id": "ZvFAuUrnIRrY",
        "outputId": "aff73612-ee8a-4adf-8ee3-fd10479466c1"
      },
      "source": [
        "#circuit = QuantumCircuit(6+1,6)\r\n",
        "circuit = QuantumCircuit(len(secretnumber)+1,len(secretnumber))\r\n",
        "\r\n",
        "#circuit.h([0,1,2,3,4,5])\r\n",
        "circuit.h(range(len(secretnumber)))\r\n",
        "\r\n",
        "# #circuit.x(6)\r\n",
        "# #circuit.h(6)\r\n",
        "circuit.x(len(secretnumber))\r\n",
        "circuit.h(len(secretnumber))\r\n",
        "\r\n",
        "circuit.barrier()\r\n",
        "\r\n",
        "# # circuit.cx(5,6)\r\n",
        "# # circuit.cx(3,6)\r\n",
        "# # circuit.cx(0,6)\r\n",
        "for ii, yesno in enumerate(reversed(secretnumber)):\r\n",
        "  if yesno == '1':\r\n",
        "    circuit.cx(ii, len(secretnumber))\r\n",
        "\r\n",
        "circuit.barrier()\r\n",
        "\r\n",
        "# #circuit.h([0,1,2,3,4,5])\r\n",
        "circuit.h(range(len(secretnumber)))\r\n",
        "\r\n",
        "circuit.barrier()\r\n",
        "\r\n",
        "# #circuit.measure([0,1,2,3,4,5],[0,1,2,3,4,5])\r\n",
        "circuit.measure(range(len(secretnumber)),range(len(secretnumber)))"
      ],
      "execution_count": 58,
      "outputs": [
        {
          "output_type": "execute_result",
          "data": {
            "text/plain": [
              "<qiskit.circuit.instructionset.InstructionSet at 0x7fc2652fa940>"
            ]
          },
          "metadata": {
            "tags": []
          },
          "execution_count": 58
        }
      ]
    },
    {
      "cell_type": "code",
      "metadata": {
        "colab": {
          "base_uri": "https://localhost:8080/",
          "height": 413
        },
        "id": "jgqiag4dImtH",
        "outputId": "21aa0edc-5fc0-4fb7-b1a9-e3042dbe9b5d"
      },
      "source": [
        "circuit.draw(output='mpl')"
      ],
      "execution_count": 59,
      "outputs": [
        {
          "output_type": "execute_result",
          "data": {
            "image/png": "[encoded data removed]",
            "text/plain": [
              "<Figure size 989.597x505.68 with 1 Axes>"
            ]
          },
          "metadata": {
            "tags": []
          },
          "execution_count": 59
        }
      ]
    },
    {
      "cell_type": "code",
      "metadata": {
        "colab": {
          "base_uri": "https://localhost:8080/"
        },
        "id": "FiMh1YWiIqG5",
        "outputId": "15006750-7a97-4ee8-a70c-656c468a1be5"
      },
      "source": [
        "simulator = Aer.get_backend('qasm_simulator')\r\n",
        "result = execute(circuit,backend= simulator, shots=1).result()\r\n",
        "counts = result.get_counts()\r\n",
        "print(counts)"
      ],
      "execution_count": 60,
      "outputs": [
        {
          "output_type": "stream",
          "text": [
            "{'101001': 1}\n"
          ],
          "name": "stdout"
        }
      ]
    },
    {
      "cell_type": "code",
      "metadata": {
        "id": "02OhU5kIMaDU"
      },
      "source": [
        ""
      ],
      "execution_count": null,
      "outputs": []
    }
  ]
}
